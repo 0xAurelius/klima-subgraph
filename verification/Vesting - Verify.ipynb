{
 "cells": [
  {
   "cell_type": "code",
   "execution_count": 2,
   "metadata": {},
   "outputs": [],
   "source": [
    "from subgrounds import Subgrounds\n",
    "from subgrounds.subgraph.fieldpath import FieldPath\n",
    "import pandas as pd\n",
    "\n",
    "sg = Subgrounds()\n",
    "current = sg.load_subgraph('https://api.thegraph.com/subgraphs/name/klimadao/klimadao-vesting')\n",
    "staging = sg.load_subgraph('https://api.thegraph.com/subgraphs/name/klimadao/staging-klimadao-vesting')\n",
    "\n",
    "number_records = 10000\n"
   ]
  },
  {
   "cell_type": "code",
   "execution_count": 3,
   "metadata": {},
   "outputs": [],
   "source": [
    "def get_all_query_fields(sg_query, derived_fields: list[str]) -> list[FieldPath]:\n",
    "    fields = sg_query.__dict__.keys()\n",
    "    fields = [item for item in fields if not item.startswith('_') and not item in derived_fields]\n",
    "    return [sg_query.__getattribute__(item) for item in fields]"
   ]
  },
  {
   "cell_type": "code",
   "execution_count": 4,
   "metadata": {},
   "outputs": [
    {
     "data": {
      "text/html": [
       "<div>\n",
       "<style scoped>\n",
       "    .dataframe tbody tr th:only-of-type {\n",
       "        vertical-align: middle;\n",
       "    }\n",
       "\n",
       "    .dataframe tbody tr th {\n",
       "        vertical-align: top;\n",
       "    }\n",
       "\n",
       "    .dataframe thead tr th {\n",
       "        text-align: left;\n",
       "    }\n",
       "</style>\n",
       "<table border=\"1\" class=\"dataframe\">\n",
       "  <thead>\n",
       "  </thead>\n",
       "  <tbody>\n",
       "  </tbody>\n",
       "</table>\n",
       "</div>"
      ],
      "text/plain": [
       "Empty DataFrame\n",
       "Columns: []\n",
       "Index: []"
      ]
     },
     "execution_count": 4,
     "metadata": {},
     "output_type": "execute_result"
    }
   ],
   "source": [
    "# Lock entity\n",
    "\n",
    "derived_fields = []\n",
    "\n",
    "current_results = current.Query.locks(\n",
    "    first=number_records,\n",
    "    orderBy=current.Lock.id,\n",
    "    orderDirection='asc'\n",
    ")\n",
    "\n",
    "df_current = sg.query_df(\n",
    "  get_all_query_fields(current_results, derived_fields)\n",
    ")\n",
    "\n",
    "new_results = staging.Query.locks(\n",
    "    first=number_records,\n",
    "    orderBy=staging.Lock.id,\n",
    "    orderDirection='asc'\n",
    ")\n",
    "\n",
    "df_new = sg.query_df(\n",
    "  get_all_query_fields(current_results, derived_fields)\n",
    ")\n",
    "\n",
    "df_current.compare(df_new)"
   ]
  },
  {
   "cell_type": "code",
   "execution_count": 5,
   "metadata": {},
   "outputs": [
    {
     "data": {
      "text/html": [
       "<div>\n",
       "<style scoped>\n",
       "    .dataframe tbody tr th:only-of-type {\n",
       "        vertical-align: middle;\n",
       "    }\n",
       "\n",
       "    .dataframe tbody tr th {\n",
       "        vertical-align: top;\n",
       "    }\n",
       "\n",
       "    .dataframe thead tr th {\n",
       "        text-align: left;\n",
       "    }\n",
       "</style>\n",
       "<table border=\"1\" class=\"dataframe\">\n",
       "  <thead>\n",
       "  </thead>\n",
       "  <tbody>\n",
       "  </tbody>\n",
       "</table>\n",
       "</div>"
      ],
      "text/plain": [
       "Empty DataFrame\n",
       "Columns: []\n",
       "Index: []"
      ]
     },
     "execution_count": 5,
     "metadata": {},
     "output_type": "execute_result"
    }
   ],
   "source": [
    "# Unlock entity\n",
    "\n",
    "derived_fields = []\n",
    "\n",
    "current_results = current.Query.unlocks(\n",
    "    first=number_records,\n",
    "    orderBy=current.Unlock.id,\n",
    "    orderDirection='asc'\n",
    ")\n",
    "\n",
    "df_current = sg.query_df(\n",
    "  get_all_query_fields(current_results, derived_fields)\n",
    ")\n",
    "\n",
    "new_results = staging.Query.unlocks(\n",
    "    first=number_records,\n",
    "    orderBy=staging.Unlock.id,\n",
    "    orderDirection='asc'\n",
    ")\n",
    "\n",
    "df_new = sg.query_df(\n",
    "  get_all_query_fields(current_results, derived_fields)\n",
    ")\n",
    "\n",
    "df_current.compare(df_new)"
   ]
  },
  {
   "cell_type": "code",
   "execution_count": 6,
   "metadata": {},
   "outputs": [
    {
     "data": {
      "text/html": [
       "<div>\n",
       "<style scoped>\n",
       "    .dataframe tbody tr th:only-of-type {\n",
       "        vertical-align: middle;\n",
       "    }\n",
       "\n",
       "    .dataframe tbody tr th {\n",
       "        vertical-align: top;\n",
       "    }\n",
       "\n",
       "    .dataframe thead tr th {\n",
       "        text-align: left;\n",
       "    }\n",
       "</style>\n",
       "<table border=\"1\" class=\"dataframe\">\n",
       "  <thead>\n",
       "  </thead>\n",
       "  <tbody>\n",
       "  </tbody>\n",
       "</table>\n",
       "</div>"
      ],
      "text/plain": [
       "Empty DataFrame\n",
       "Columns: []\n",
       "Index: []"
      ]
     },
     "execution_count": 6,
     "metadata": {},
     "output_type": "execute_result"
    }
   ],
   "source": [
    "# VestingMetric entity\n",
    "\n",
    "derived_fields = []\n",
    "\n",
    "current_results = current.Query.vestingMetrics(\n",
    "    first=number_records,\n",
    "    orderBy=current.VestingMetric.id,\n",
    "    orderDirection='asc'\n",
    ")\n",
    "\n",
    "df_current = sg.query_df(\n",
    "  get_all_query_fields(current_results, derived_fields)\n",
    ")\n",
    "\n",
    "new_results = staging.Query.vestingMetrics(\n",
    "    first=number_records,\n",
    "    orderBy=staging.VestingMetric.id,\n",
    "    orderDirection='asc'\n",
    ")\n",
    "\n",
    "df_new = sg.query_df(\n",
    "  get_all_query_fields(current_results, derived_fields)\n",
    ")\n",
    "\n",
    "df_current.compare(df_new)"
   ]
  }
 ],
 "metadata": {
  "kernelspec": {
   "display_name": "Python 3.10.4 64-bit ('klima-analytics')",
   "language": "python",
   "name": "python3"
  },
  "language_info": {
   "codemirror_mode": {
    "name": "ipython",
    "version": 3
   },
   "file_extension": ".py",
   "mimetype": "text/x-python",
   "name": "python",
   "nbconvert_exporter": "python",
   "pygments_lexer": "ipython3",
   "version": "3.10.4"
  },
  "orig_nbformat": 4,
  "vscode": {
   "interpreter": {
    "hash": "afceb56415c785c82a47f436db0adc75581a14869f628f3e6d39d0c753714835"
   }
  }
 },
 "nbformat": 4,
 "nbformat_minor": 2
}
