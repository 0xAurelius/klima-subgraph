{
 "cells": [
  {
   "cell_type": "code",
   "execution_count": 8,
   "metadata": {},
   "outputs": [],
   "source": [
    "from subgrounds import Subgrounds\n",
    "from subgrounds.subgraph.fieldpath import FieldPath\n",
    "import pandas as pd\n",
    "\n",
    "sg = Subgrounds()\n",
    "current = sg.load_subgraph('https://api.thegraph.com/subgraphs/name/klimadao/klimadao-bonds')\n",
    "staging = sg.load_subgraph('https://api.thegraph.com/subgraphs/name/klimadao/staging-klimadao-bonds')\n",
    "\n",
    "number_records = 10000\n"
   ]
  },
  {
   "cell_type": "code",
   "execution_count": 9,
   "metadata": {},
   "outputs": [],
   "source": [
    "def get_all_query_fields(sg_query, derived_fields: list[str]) -> list[FieldPath]:\n",
    "    fields = sg_query.__dict__.keys()\n",
    "    fields = [item for item in fields if not item.startswith('_') and not item in derived_fields]\n",
    "    return [sg_query.__getattribute__(item) for item in fields]"
   ]
  },
  {
   "cell_type": "code",
   "execution_count": 10,
   "metadata": {},
   "outputs": [
    {
     "data": {
      "text/html": [
       "<div>\n",
       "<style scoped>\n",
       "    .dataframe tbody tr th:only-of-type {\n",
       "        vertical-align: middle;\n",
       "    }\n",
       "\n",
       "    .dataframe tbody tr th {\n",
       "        vertical-align: top;\n",
       "    }\n",
       "\n",
       "    .dataframe thead tr th {\n",
       "        text-align: left;\n",
       "    }\n",
       "</style>\n",
       "<table border=\"1\" class=\"dataframe\">\n",
       "  <thead>\n",
       "  </thead>\n",
       "  <tbody>\n",
       "  </tbody>\n",
       "</table>\n",
       "</div>"
      ],
      "text/plain": [
       "Empty DataFrame\n",
       "Columns: []\n",
       "Index: []"
      ]
     },
     "execution_count": 10,
     "metadata": {},
     "output_type": "execute_result"
    }
   ],
   "source": [
    "# DailyBond entity\n",
    "\n",
    "derived_fields = []\n",
    "\n",
    "current_results = current.Query.dailyBonds(\n",
    "    first=number_records,\n",
    "    orderBy=current.DailyBond.id,\n",
    "    orderDirection='asc'\n",
    ")\n",
    "\n",
    "df_current = sg.query_df(\n",
    "  get_all_query_fields(current_results, derived_fields)\n",
    ")\n",
    "\n",
    "new_results = staging.Query.dailyBonds(\n",
    "    first=number_records,\n",
    "    orderBy=staging.DailyBond.id,\n",
    "    orderDirection='asc'\n",
    ")\n",
    "\n",
    "df_new = sg.query_df(\n",
    "  get_all_query_fields(current_results, derived_fields)\n",
    ")\n",
    "\n",
    "df_current.compare(df_new)"
   ]
  },
  {
   "cell_type": "code",
   "execution_count": 11,
   "metadata": {},
   "outputs": [
    {
     "data": {
      "text/html": [
       "<div>\n",
       "<style scoped>\n",
       "    .dataframe tbody tr th:only-of-type {\n",
       "        vertical-align: middle;\n",
       "    }\n",
       "\n",
       "    .dataframe tbody tr th {\n",
       "        vertical-align: top;\n",
       "    }\n",
       "\n",
       "    .dataframe thead tr th {\n",
       "        text-align: left;\n",
       "    }\n",
       "</style>\n",
       "<table border=\"1\" class=\"dataframe\">\n",
       "  <thead>\n",
       "  </thead>\n",
       "  <tbody>\n",
       "  </tbody>\n",
       "</table>\n",
       "</div>"
      ],
      "text/plain": [
       "Empty DataFrame\n",
       "Columns: []\n",
       "Index: []"
      ]
     },
     "execution_count": 11,
     "metadata": {},
     "output_type": "execute_result"
    }
   ],
   "source": [
    "# Bonder entity\n",
    "\n",
    "derived_fields = ['deposits','redeems']\n",
    "\n",
    "current_results = current.Query.bonders(\n",
    "    first=number_records,\n",
    "    orderBy=current.Bonder.id,\n",
    "    orderDirection='asc'\n",
    ")\n",
    "\n",
    "df_current = sg.query_df(\n",
    "  get_all_query_fields(current_results, derived_fields)\n",
    ")\n",
    "\n",
    "new_results = staging.Query.bonders(\n",
    "    first=number_records,\n",
    "    orderBy=staging.Bonder.id,\n",
    "    orderDirection='asc'\n",
    ")\n",
    "\n",
    "df_new = sg.query_df(\n",
    "  get_all_query_fields(current_results, derived_fields)\n",
    ")\n",
    "\n",
    "df_current.compare(df_new)"
   ]
  },
  {
   "cell_type": "code",
   "execution_count": 12,
   "metadata": {},
   "outputs": [
    {
     "data": {
      "text/html": [
       "<div>\n",
       "<style scoped>\n",
       "    .dataframe tbody tr th:only-of-type {\n",
       "        vertical-align: middle;\n",
       "    }\n",
       "\n",
       "    .dataframe tbody tr th {\n",
       "        vertical-align: top;\n",
       "    }\n",
       "\n",
       "    .dataframe thead tr th {\n",
       "        text-align: left;\n",
       "    }\n",
       "</style>\n",
       "<table border=\"1\" class=\"dataframe\">\n",
       "  <thead>\n",
       "  </thead>\n",
       "  <tbody>\n",
       "  </tbody>\n",
       "</table>\n",
       "</div>"
      ],
      "text/plain": [
       "Empty DataFrame\n",
       "Columns: []\n",
       "Index: []"
      ]
     },
     "execution_count": 12,
     "metadata": {},
     "output_type": "execute_result"
    }
   ],
   "source": [
    "# Deposit entity\n",
    "\n",
    "derived_fields = ['depositOwnershipChanges']\n",
    "\n",
    "current_results = current.Query.deposits(\n",
    "    first=number_records,\n",
    "    orderBy=current.Deposit.id,\n",
    "    orderDirection='asc'\n",
    ")\n",
    "\n",
    "df_current = sg.query_df(\n",
    "  get_all_query_fields(current_results, derived_fields)\n",
    ")\n",
    "\n",
    "new_results = staging.Query.deposits(\n",
    "    first=number_records,\n",
    "    orderBy=staging.Deposit.id,\n",
    "    orderDirection='asc'\n",
    ")\n",
    "\n",
    "df_new = sg.query_df(\n",
    "  get_all_query_fields(current_results, derived_fields)\n",
    ")\n",
    "\n",
    "df_current.compare(df_new)"
   ]
  },
  {
   "cell_type": "code",
   "execution_count": 13,
   "metadata": {},
   "outputs": [
    {
     "data": {
      "text/html": [
       "<div>\n",
       "<style scoped>\n",
       "    .dataframe tbody tr th:only-of-type {\n",
       "        vertical-align: middle;\n",
       "    }\n",
       "\n",
       "    .dataframe tbody tr th {\n",
       "        vertical-align: top;\n",
       "    }\n",
       "\n",
       "    .dataframe thead tr th {\n",
       "        text-align: left;\n",
       "    }\n",
       "</style>\n",
       "<table border=\"1\" class=\"dataframe\">\n",
       "  <thead>\n",
       "  </thead>\n",
       "  <tbody>\n",
       "  </tbody>\n",
       "</table>\n",
       "</div>"
      ],
      "text/plain": [
       "Empty DataFrame\n",
       "Columns: []\n",
       "Index: []"
      ]
     },
     "execution_count": 13,
     "metadata": {},
     "output_type": "execute_result"
    }
   ],
   "source": [
    "# Redemption entity\n",
    "\n",
    "derived_fields = []\n",
    "\n",
    "current_results = current.Query.redemptions(\n",
    "    first=number_records,\n",
    "    orderBy=current.Redemption.id,\n",
    "    orderDirection='asc'\n",
    ")\n",
    "\n",
    "df_current = sg.query_df(\n",
    "  get_all_query_fields(current_results, derived_fields)\n",
    ")\n",
    "\n",
    "new_results = staging.Query.redemptions(\n",
    "    first=number_records,\n",
    "    orderBy=staging.Redemption.id,\n",
    "    orderDirection='asc'\n",
    ")\n",
    "\n",
    "df_new = sg.query_df(\n",
    "  get_all_query_fields(current_results, derived_fields)\n",
    ")\n",
    "\n",
    "df_current.compare(df_new)"
   ]
  },
  {
   "cell_type": "code",
   "execution_count": 14,
   "metadata": {},
   "outputs": [
    {
     "data": {
      "text/html": [
       "<div>\n",
       "<style scoped>\n",
       "    .dataframe tbody tr th:only-of-type {\n",
       "        vertical-align: middle;\n",
       "    }\n",
       "\n",
       "    .dataframe tbody tr th {\n",
       "        vertical-align: top;\n",
       "    }\n",
       "\n",
       "    .dataframe thead tr th {\n",
       "        text-align: left;\n",
       "    }\n",
       "</style>\n",
       "<table border=\"1\" class=\"dataframe\">\n",
       "  <thead>\n",
       "  </thead>\n",
       "  <tbody>\n",
       "  </tbody>\n",
       "</table>\n",
       "</div>"
      ],
      "text/plain": [
       "Empty DataFrame\n",
       "Columns: []\n",
       "Index: []"
      ]
     },
     "execution_count": 14,
     "metadata": {},
     "output_type": "execute_result"
    }
   ],
   "source": [
    "# Transaction entity\n",
    "\n",
    "derived_fields = []\n",
    "\n",
    "current_results = current.Query.transactions(\n",
    "    first=number_records,\n",
    "    orderBy=current.Transaction.id,\n",
    "    orderDirection='asc'\n",
    ")\n",
    "\n",
    "df_current = sg.query_df(\n",
    "  get_all_query_fields(current_results, derived_fields)\n",
    ")\n",
    "\n",
    "new_results = staging.Query.transactions(\n",
    "    first=number_records,\n",
    "    orderBy=staging.Transaction.id,\n",
    "    orderDirection='asc'\n",
    ")\n",
    "\n",
    "df_new = sg.query_df(\n",
    "  get_all_query_fields(current_results, derived_fields)\n",
    ")\n",
    "\n",
    "df_current.compare(df_new)"
   ]
  },
  {
   "cell_type": "code",
   "execution_count": 15,
   "metadata": {},
   "outputs": [
    {
     "data": {
      "text/html": [
       "<div>\n",
       "<style scoped>\n",
       "    .dataframe tbody tr th:only-of-type {\n",
       "        vertical-align: middle;\n",
       "    }\n",
       "\n",
       "    .dataframe tbody tr th {\n",
       "        vertical-align: top;\n",
       "    }\n",
       "\n",
       "    .dataframe thead tr th {\n",
       "        text-align: left;\n",
       "    }\n",
       "</style>\n",
       "<table border=\"1\" class=\"dataframe\">\n",
       "  <thead>\n",
       "  </thead>\n",
       "  <tbody>\n",
       "  </tbody>\n",
       "</table>\n",
       "</div>"
      ],
      "text/plain": [
       "Empty DataFrame\n",
       "Columns: []\n",
       "Index: []"
      ]
     },
     "execution_count": 15,
     "metadata": {},
     "output_type": "execute_result"
    }
   ],
   "source": [
    "# Term entity\n",
    "\n",
    "derived_fields = []\n",
    "\n",
    "current_results = current.Query.terms(\n",
    "    first=number_records,\n",
    "    orderBy=current.Term.id,\n",
    "    orderDirection='asc'\n",
    ")\n",
    "\n",
    "df_current = sg.query_df(\n",
    "  get_all_query_fields(current_results, derived_fields)\n",
    ")\n",
    "\n",
    "new_results = staging.Query.terms(\n",
    "    first=number_records,\n",
    "    orderBy=staging.Term.id,\n",
    "    orderDirection='asc'\n",
    ")\n",
    "\n",
    "df_new = sg.query_df(\n",
    "  get_all_query_fields(current_results, derived_fields)\n",
    ")\n",
    "\n",
    "df_current.compare(df_new)"
   ]
  },
  {
   "cell_type": "code",
   "execution_count": 16,
   "metadata": {},
   "outputs": [
    {
     "data": {
      "text/html": [
       "<div>\n",
       "<style scoped>\n",
       "    .dataframe tbody tr th:only-of-type {\n",
       "        vertical-align: middle;\n",
       "    }\n",
       "\n",
       "    .dataframe tbody tr th {\n",
       "        vertical-align: top;\n",
       "    }\n",
       "\n",
       "    .dataframe thead tr th {\n",
       "        text-align: left;\n",
       "    }\n",
       "</style>\n",
       "<table border=\"1\" class=\"dataframe\">\n",
       "  <thead>\n",
       "  </thead>\n",
       "  <tbody>\n",
       "  </tbody>\n",
       "</table>\n",
       "</div>"
      ],
      "text/plain": [
       "Empty DataFrame\n",
       "Columns: []\n",
       "Index: []"
      ]
     },
     "execution_count": 16,
     "metadata": {},
     "output_type": "execute_result"
    }
   ],
   "source": [
    "# DepositOwnershipChange entity\n",
    "\n",
    "derived_fields = []\n",
    "\n",
    "current_results = current.Query.depositOwnershipChanges(\n",
    "    first=number_records,\n",
    "    orderBy=current.DepositOwnershipChange.id,\n",
    "    orderDirection='asc'\n",
    ")\n",
    "\n",
    "df_current = sg.query_df(\n",
    "  get_all_query_fields(current_results, derived_fields)\n",
    ")\n",
    "\n",
    "new_results = staging.Query.depositOwnershipChanges(\n",
    "    first=number_records,\n",
    "    orderBy=staging.DepositOwnershipChange.id,\n",
    "    orderDirection='asc'\n",
    ")\n",
    "\n",
    "df_new = sg.query_df(\n",
    "  get_all_query_fields(current_results, derived_fields)\n",
    ")\n",
    "\n",
    "df_current.compare(df_new)"
   ]
  }
 ],
 "metadata": {
  "kernelspec": {
   "display_name": "Python 3.10.4 64-bit ('klima-analytics')",
   "language": "python",
   "name": "python3"
  },
  "language_info": {
   "codemirror_mode": {
    "name": "ipython",
    "version": 3
   },
   "file_extension": ".py",
   "mimetype": "text/x-python",
   "name": "python",
   "nbconvert_exporter": "python",
   "pygments_lexer": "ipython3",
   "version": "3.10.4"
  },
  "orig_nbformat": 4,
  "vscode": {
   "interpreter": {
    "hash": "afceb56415c785c82a47f436db0adc75581a14869f628f3e6d39d0c753714835"
   }
  }
 },
 "nbformat": 4,
 "nbformat_minor": 2
}
